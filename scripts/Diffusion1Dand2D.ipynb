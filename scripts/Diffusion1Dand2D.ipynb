{
 "cells": [
  {
   "cell_type": "markdown",
   "id": "58d5a507",
   "metadata": {},
   "source": [
    "# Diffusion equation parallelized"
   ]
  },
  {
   "cell_type": "markdown",
   "id": "d7d75a25",
   "metadata": {},
   "source": [
    "## The 1D case. NOT IN PARALLEL"
   ]
  },
  {
   "cell_type": "code",
   "execution_count": null,
   "id": "43658986",
   "metadata": {},
   "outputs": [],
   "source": [
    "import numpy as np\n",
    "import matplotlib.pyplot as plt\n",
    "#%%px\n",
    "nx = 2*1000\n",
    "dx = 0.1\n",
    "nt = 100000\n",
    "dt = 0.004\n",
    "D = 1.0 # diffusion constant\n",
    "x = np.arange(nx)*dx\n",
    "\n",
    "# initial condition\n",
    "sigma0 = 20*dx\n",
    "c = np.exp(-(x-nx*dx/2)**2/(2*sigma0**2)) / (np.sqrt(2*np.pi)*sigma0)"
   ]
  },
  {
   "cell_type": "code",
   "execution_count": null,
   "id": "f9147e25",
   "metadata": {},
   "outputs": [],
   "source": [
    "fig, ax = plt.subplots()\n",
    "ax.plot(x, c)"
   ]
  },
  {
   "cell_type": "code",
   "execution_count": null,
   "id": "a0211d5b",
   "metadata": {},
   "outputs": [],
   "source": [
    "fig, ax = plt.subplots()\n",
    "# The loop over timestps\n",
    "for t in np.arange(nt):\n",
    "    #\n",
    "    cleft = np.roll(c,shift=1).copy()\n",
    "    crght = np.roll(c,shift=-1).copy()\n",
    "    ccent = c.copy()\n",
    "    c = c + D*dt/dx**2*(cleft -2.*ccent+crght)\n",
    "    #ax.set_title('rank ${}$'.format(rank))\n",
    "    if t%10000==0:\n",
    "        #ax.set_xlim(0, nx*dx)\n",
    "        ax.set_ylim(0, 0.22)\n",
    "        ax.plot(x, c, label='t = {}'.format(t))\n",
    "        ax.legend()"
   ]
  },
  {
   "cell_type": "markdown",
   "id": "c8c58abb",
   "metadata": {},
   "source": [
    "## The 2D case. NOT IN PARALLEL"
   ]
  },
  {
   "cell_type": "code",
   "execution_count": null,
   "id": "3d50f2e3",
   "metadata": {},
   "outputs": [],
   "source": [
    "from matplotlib import cm\n",
    "from matplotlib.ticker import LinearLocator\n",
    "from mpl_toolkits.mplot3d import Axes3D \n",
    "#import matplotlib.animation as animation\n",
    "# \n",
    "nx = 4*250\n",
    "ny = 4*250\n",
    "c = np.zeros((nx,ny))\n",
    "dx = dy = 0.1\n",
    "x = np.arange(nx)*dx\n",
    "y = np.arange(ny)*dy\n",
    "X, Y = np.meshgrid(x,y)\n",
    "# Initial condition\n",
    "sigma0 = 10*dx\n",
    "c = np.exp(-((X-nx*dx/2)**2+(Y-ny*dy/2)**2)/(2*sigma0**2)) / (np.sqrt(2*np.pi)*sigma0)\n",
    "# Time discretization\n",
    "nt = 100000\n",
    "nevery = 10000\n",
    "dt = 0.001\n",
    "D = 1.0 # diffusion constant"
   ]
  },
  {
   "cell_type": "code",
   "execution_count": null,
   "id": "abb789b1",
   "metadata": {},
   "outputs": [],
   "source": [
    "fig, ax = plt.subplots(subplot_kw={\"projection\": \"3d\"})\n",
    "plot = ax.plot_surface(X, Y, c, cmap=cm.coolwarm,linewidth=0, antialiased=False)"
   ]
  },
  {
   "cell_type": "code",
   "execution_count": null,
   "id": "2c64de18",
   "metadata": {},
   "outputs": [],
   "source": [
    "fig, ax = plt.subplots(subplot_kw={\"projection\": \"3d\"})\n",
    "# Plot the surface.\n",
    "#surf = ax.plot_surface(X, Y, c, cmap=cm.coolwarm,linewidth=0, antialiased=False)\n",
    "# The frames\n",
    "#fps = 10 # frames per second\n",
    "#frn = nt//nevery\n",
    "#zarray = np.zeros((nx, ny, frn))\n",
    "# The loop over timestps\n",
    "#i = 0\n",
    "for t in np.arange(1000):\n",
    "    #\n",
    "    cup = np.roll(c,shift=(1,0),axis=(0,1)).copy()\n",
    "    cdown = np.roll(c,shift=(-1,0),axis=(0,1)).copy()\n",
    "    cleft = np.roll(c,shift=(0,1),axis=(0,1)).copy()\n",
    "    crght = np.roll(c,shift=(0,-1),axis=(0,1)).copy()\n",
    "    ccent = c.copy()\n",
    "    c = c + D*dt/dx**2*(cleft+cdown -4.*ccent+crght+cup)\n",
    "#\n",
    "plot.remove()\n",
    "plot = ax.plot_surface(X, Y, c, cmap=cm.coolwarm,linewidth=0, antialiased=False)"
   ]
  },
  {
   "cell_type": "markdown",
   "id": "0c166bca",
   "metadata": {},
   "source": [
    "## Parallel"
   ]
  },
  {
   "cell_type": "code",
   "execution_count": null,
   "id": "6f64b319",
   "metadata": {},
   "outputs": [],
   "source": [
    "client.shutdown()"
   ]
  },
  {
   "cell_type": "code",
   "execution_count": null,
   "id": "895ca122",
   "metadata": {},
   "outputs": [],
   "source": [
    "import ipyparallel as ipp\n",
    "#\n",
    "NCPU = 4\n",
    "cluster = ipp.Cluster(engines=\"mpi\", n=NCPU)\n",
    "client = cluster.start_and_connect_sync()\n",
    "#\n",
    "client.ids"
   ]
  },
  {
   "cell_type": "code",
   "execution_count": null,
   "id": "3b4a3377",
   "metadata": {},
   "outputs": [],
   "source": [
    "%%px\n",
    "#client.wait_for_engines(6)\n",
    "import numpy as np\n",
    "from mpi4py import MPI\n",
    "import matplotlib.pyplot as plt\n",
    "#\n",
    "# Start Intracommunicator and get what is out there i.t.o. size and rank\n",
    "# Note that all these variables are known to all ranks where size is equal\n",
    "# for all and rank is specific to the rank number of the process.\n",
    "#\n",
    "comm = MPI.COMM_WORLD      # start the communicator assign to comm\n",
    "size = comm.Get_size()     # get the size and assign to size\n",
    "rank = comm.Get_rank()     # get the rank and assign to rank\n",
    "#\n",
    "# This is just for checking if it worked and should give sth. like this:\n",
    "#[stdout:3] Rank/Size 3/16\n",
    "#\n",
    "#[stdout:5] Rank/Size 5/16\n",
    "#\n",
    "#[stdout:10] Rank/Size 10/16\n",
    "#\n",
    "#[stdout:0] Rank/Size 0/16\n",
    "#\n",
    "#[stdout:1] Rank/Size 1/16\n",
    "#\n",
    "print('Rank/Size {}/{}'.format(rank,size))    "
   ]
  },
  {
   "cell_type": "code",
   "execution_count": null,
   "id": "98974907",
   "metadata": {},
   "outputs": [],
   "source": [
    "%px %matplotlib inline"
   ]
  },
  {
   "cell_type": "markdown",
   "id": "46c0c67b",
   "metadata": {},
   "source": [
    "### 1D"
   ]
  },
  {
   "cell_type": "code",
   "execution_count": null,
   "id": "5dda5581",
   "metadata": {},
   "outputs": [],
   "source": [
    "%%px\n",
    "# \n",
    "nx = 1000\n",
    "dx = 0.1\n",
    "nt = 100000\n",
    "dt = 0.001\n",
    "D = 1 # diffusion constant"
   ]
  },
  {
   "cell_type": "markdown",
   "id": "54792ea4",
   "metadata": {},
   "source": [
    "### Domain decomposition"
   ]
  },
  {
   "cell_type": "code",
   "execution_count": null,
   "id": "de0021c4",
   "metadata": {},
   "outputs": [],
   "source": [
    "%%px\n",
    "# Domain decomposition: set up domain boundaries\n",
    "nx1 = rank*nx//size\n",
    "nx2 = (rank+1)*nx//size\n",
    "\n",
    "print('{}, Domain boundaries: {}-{}'.format(rank, nx1, nx2))\n",
    "\n",
    "# We include one additional cell at the boundaries for communication purposes\n",
    "x = np.arange(nx1-1, nx2+1)*dx"
   ]
  },
  {
   "cell_type": "markdown",
   "id": "551c2215",
   "metadata": {},
   "source": [
    "### Initial condition: Gaussian concentration profile initially"
   ]
  },
  {
   "cell_type": "code",
   "execution_count": null,
   "id": "9449a90a",
   "metadata": {},
   "outputs": [],
   "source": [
    "%%px\n",
    "sigma0 = 20*dx\n",
    "c = np.exp(-(x-nx*dx/2)**2/(2*sigma0**2)) / (np.sqrt(2*np.pi)*sigma0)\n",
    "\n",
    "plt.title('rank ${}$'.format(rank))\n",
    "plt.xlim(0, nx*dx)\n",
    "plt.ylim(0, 0.3)\n",
    "plt.plot(x, c)"
   ]
  },
  {
   "cell_type": "markdown",
   "id": "16de3e61",
   "metadata": {},
   "source": [
    "### Gather all data on rank 0 and plot"
   ]
  },
  {
   "cell_type": "code",
   "execution_count": null,
   "id": "eed23e60",
   "metadata": {},
   "outputs": [],
   "source": [
    "%%px\n",
    "x_full_range = np.arange(nx)*dx\n",
    "c_full_range = np.zeros(nx)\n",
    "comm.Gather(c[1:-1], c_full_range, root=0)\n",
    "if rank == 0:\n",
    "    fig, ax = plt.subplots()\n",
    "    ax.plot(x_full_range, c_full_range, '-')"
   ]
  },
  {
   "cell_type": "markdown",
   "id": "7edf1f49",
   "metadata": {},
   "source": [
    "### Propagate in time. Gather during progation so we can plot the evolution of the concentration profile"
   ]
  },
  {
   "cell_type": "code",
   "execution_count": null,
   "id": "8ac4b69e",
   "metadata": {},
   "outputs": [],
   "source": [
    "%%px\n",
    "#\n",
    "x_full_range = np.arange(nx)*dx\n",
    "c_full_range = np.zeros(nx)\n",
    "if rank == 0: fig, ax = plt.subplots()\n",
    "#\n",
    "for t in range(nt+1):\n",
    "    # Send to right, receive from left\n",
    "    comm.Sendrecv(c[-2:-1], (rank+1)%size, recvbuf=c[:1], source=(rank-1)%size)\n",
    "    # Send to left, receive from right\n",
    "    comm.Sendrecv(c[1:2], (rank-1)%size, recvbuf=c[-1:], source=(rank+1)%size)\n",
    "    if t % (nt//5) == 0:\n",
    "        comm.Gather(c[1:-1], c_full_range, root=0)\n",
    "        if rank == 0:\n",
    "            ax.plot(x_full_range, c_full_range, label='t = {}'.format(t))\n",
    "    d2c_dx2 = (np.roll(c, 1)-2*c+np.roll(c, -1))/(dx**2)\n",
    "    c += D*d2c_dx2*dt\n",
    "if rank == 0: ax.legend(loc='best')"
   ]
  },
  {
   "cell_type": "markdown",
   "id": "120a4599",
   "metadata": {},
   "source": [
    "## 2D"
   ]
  },
  {
   "cell_type": "code",
   "execution_count": null,
   "id": "ce74a037",
   "metadata": {},
   "outputs": [],
   "source": [
    "%%px\n",
    "dx = 0.1\n",
    "nt = 100000\n",
    "dt = 0.001\n",
    "D = 1 # diffusion constant"
   ]
  },
  {
   "cell_type": "markdown",
   "id": "04c8fee1",
   "metadata": {},
   "source": [
    "## 2D Domain decomposition"
   ]
  },
  {
   "cell_type": "code",
   "execution_count": null,
   "id": "3d9fb787",
   "metadata": {},
   "outputs": [],
   "source": [
    "%%px\n",
    "#\n",
    "import numpy as np\n",
    "import matplotlib.pyplot as plt\n",
    "from mpi4py import MPI\n",
    "#\n",
    "comm = MPI.COMM_WORLD\n",
    "size = comm.Get_size()\n",
    "rank = comm.Get_rank()\n",
    "#\n",
    "# Let us take a square simulation domain that can be divided \n",
    "# by the number of cores and results in a square subdomain \n",
    "NX = 400\n",
    "NY = 400\n",
    "#\n",
    "#print('NX = {} NY = {}, and sqrt(NX*NY) = {}'.format(NX,NY,np.sqrt(NX*NY)))\n",
    "#print('NX/NY = {} and NY/NX = {}\\n'.format(NX/NY,NY/NX))\n",
    "#\n",
    "if NX < NY:\n",
    "    sectsX=int(np.floor(np.sqrt(size*NX/NY)))\n",
    "    sectsY=int(np.floor(size/sectsX))\n",
    "    print('We have {} fields in x-direction and {} in y-direction'.format(sectsX,sectsY))\n",
    "    print('How do the fractions look like?')\n",
    "    print('NX/NY={} and sectsX/sectsY = {}\\n'.format(NX/NY,sectsX/sectsY))\n",
    "elif NX > NY:\n",
    "    sectsY=int(np.floor(np.sqrt(size*NY/NX)))\n",
    "    sectsX=int(np.floor(size/sectsY))\n",
    "    print('We have {} fields in x-direction and {} in y-direction'.format(sectsX,sectsY))\n",
    "    print('How do the fractions look like?')\n",
    "    print('NX/NY={} and sectsX/sectsY = {}\\n'.format(NX/NY,sectsX/sectsY))\n",
    "elif NX==NY:\n",
    "    sectsY=int(np.floor(np.sqrt(size)))\n",
    "    sectsX=int(size/sectsY)\n",
    "    if rank == 0: print('In the case of equal size we divide the processes as {} and {}'.format(sectsX,sectsY))\n",
    "#\n",
    "#print('Rank {}/{} is alive.'.format(rank, size))\n",
    "#\n",
    "sectsX=int(np.floor(np.sqrt(size)))\n",
    "sectsY=int(size//sectsX)\n",
    "#\n",
    "#sectsX=int(sys.argv[3])\n",
    "#sectsY=int(sys.argv[4])\n",
    "nxsub = NX//sectsX+2\n",
    "nysub = NY//sectsY+2\n",
    "boundary_k=[False,False,False,False]\n",
    "cartcomm=comm.Create_cart(dims=[sectsX,sectsY],periods=[True,True],reorder=False)\n",
    "rcoords = cartcomm.Get_coords(rank)\n",
    "#\n",
    "# where to receive from and where send to \n",
    "sR,dR = cartcomm.Shift(1,1)\n",
    "sL,dL = cartcomm.Shift(1,-1)\n",
    "sU,dU = cartcomm.Shift(0,1)\n",
    "sD,dD = cartcomm.Shift(0,-1)\n",
    "sd = np.array([sR,dR,sL,dL,sU,dU,sD,dD], dtype = int)"
   ]
  },
  {
   "cell_type": "markdown",
   "id": "5c012a40",
   "metadata": {},
   "source": [
    "## Analysis of the domain"
   ]
  },
  {
   "cell_type": "code",
   "execution_count": null,
   "id": "1a535137",
   "metadata": {},
   "outputs": [],
   "source": [
    "%%px\n",
    "allrcoords = comm.gather(rcoords,root = 0)\n",
    "allDestSourBuf = np.zeros(size*8, dtype = int)\n",
    "comm.Gather(sd, allDestSourBuf, root = 0)\n",
    "#\n",
    "#print(sd)\n",
    "if rank == 0:\n",
    "    print(' ')\n",
    "    cartarray = np.ones((sectsY,sectsX))\n",
    "    allDestSour = np.array(allDestSourBuf).reshape((size,8))\n",
    "    for i in np.arange(size):\n",
    "        cartarray[allrcoords[i][0],allrcoords[i][1]] = i\n",
    "        print('Rank {} all destinations and sources {}'.format(i,allDestSour[i,:]))\n",
    "        sR,dR,sL,dL,sU,dU,sD,dD = allDestSour[i]\n",
    "        print('Rank {} is at {}'.format(i,allrcoords[i]))\n",
    "        print('sour/dest right {} {}.'.format(sR,dR))\n",
    "        print('sour/dest left  {} {}.'.format(sL,dL))  \n",
    "        print('sour/dest up    {} {}.'.format(sU,dU))\n",
    "        print('sour/dest down  {} {}.'.format(sD,dD))\n",
    "        #print('[stdout:',i,']',allDestSour[i])\n",
    "    print('')\n",
    "    print(cartarray)"
   ]
  },
  {
   "cell_type": "markdown",
   "id": "f498a87f",
   "metadata": {},
   "source": [
    "## Initial conditions 2D"
   ]
  },
  {
   "cell_type": "code",
   "execution_count": null,
   "id": "6c7bb601",
   "metadata": {},
   "outputs": [],
   "source": [
    "%%px\n",
    "#nx = 1600\n",
    "dx = 0.1\n",
    "nt = 10000\n",
    "dt = 0.001\n",
    "D = 1 # diffusion constant\n",
    "# Define the gridpoints\n",
    "x = np.arange(rcoords[0]*NX//sectsX,(rcoords[0]+1)*NX//sectsX)*dx\n",
    "y = np.arange(rcoords[1]*NY//sectsX,(rcoords[1]+1)*NY//sectsY)*dx\n",
    "X,Y = np.meshgrid(x,y)\n",
    "#\n",
    "sigma0 = 30*dx\n",
    "c = np.zeros((nxsub,nysub))\n",
    "c[1:-1,1:-1] = np.exp(-((X-NX/2*dx)**2+(Y-NY/2*dx)**2)/(2*sigma0**2)) / (np.sqrt(2*np.pi)*sigma0)"
   ]
  },
  {
   "cell_type": "code",
   "execution_count": null,
   "id": "aeb08f71",
   "metadata": {},
   "outputs": [],
   "source": [
    "%%px\n",
    "from matplotlib import cm\n",
    "from matplotlib.ticker import LinearLocator\n",
    "from mpl_toolkits.mplot3d import Axes3D \n",
    "import matplotlib.animation as animation"
   ]
  },
  {
   "cell_type": "code",
   "execution_count": null,
   "id": "2a344e4c",
   "metadata": {},
   "outputs": [],
   "source": [
    "%%px\n",
    "fig, ax = plt.subplots(subplot_kw={\"projection\": \"3d\"})\n",
    "ax.plot_surface(X, Y, c[1:-1,1:-1], cmap=cm.coolwarm,linewidth=0, antialiased=False)"
   ]
  },
  {
   "cell_type": "code",
   "execution_count": null,
   "id": "29dfe57f",
   "metadata": {},
   "outputs": [],
   "source": [
    "%%px\n",
    "#\n",
    "c_full_range = np.zeros((NX*NY))\n",
    "comm.Gather(c[1:-1,1:-1].reshape((nxsub-2)*(nysub-2)), c_full_range, root = 0)\n",
    "rcoords_x = comm.gather(rcoords[0], root=0)\n",
    "rcoords_y = comm.gather(rcoords[1], root=0)\n",
    "if rank == 0:\n",
    "    fig, ax = plt.subplots(subplot_kw={\"projection\": \"3d\"})\n",
    "#\n",
    "    X0, Y0 = np.meshgrid(np.arange(NX),np.arange(NY))\n",
    "    xy = np.array([rcoords_x,rcoords_y]).T\n",
    "    c_plot = np.zeros((NX,NY))\n",
    "    #\n",
    "    for i in np.arange(sectsX):\n",
    "        for j in np.arange(sectsY):\n",
    "            k = i*sectsX+j\n",
    "            xlo = NX//sectsX*xy[k,1]\n",
    "            xhi = NX//sectsX*(xy[k,1]+1)\n",
    "            ylo = NY//sectsY*xy[k,0]\n",
    "            yhi = NY//sectsY*(xy[k,0]+1)\n",
    "            clo = k*NX*NY//(sectsX*sectsY)\n",
    "            chi = (k+1)*NX*NY//(sectsX*sectsY)\n",
    "            #print('{} to {} into {} {} to {} {}'.format(clo,chi,xlo,ylo,xhi,yhi))\n",
    "            #print((xhi-xlo)*(yhi-ylo),chi-clo)\n",
    "            c_plot[xlo:xhi,ylo:yhi] = c_full_range[clo:chi].reshape(NX//sectsX,NY//sectsY)\n",
    "#            \n",
    "    ax.plot_surface(X0, Y0, c_plot, cmap=cm.coolwarm,linewidth=0, antialiased=False)\n",
    "#"
   ]
  },
  {
   "cell_type": "markdown",
   "id": "1237c25b",
   "metadata": {},
   "source": [
    "## Communicate between subdomains"
   ]
  },
  {
   "cell_type": "code",
   "execution_count": null,
   "id": "e6559ae0",
   "metadata": {},
   "outputs": [],
   "source": [
    "%%px\n",
    "# Communication between subdomains\n",
    "def Communicate(c,cartcomm,sd):\n",
    "    recvbuf = np.zeros(c[:,1].shape[0])\n",
    "    sR,dR,sL,dL,sU,dU,sD,dD = sd\n",
    "    # Send to right which is destination rigth (dR) and receive from left which is source right (sR)\n",
    "    # print(rank,'Right, source',sR,'destination',dR)\n",
    "    sendbuf = c[:,-2].copy() # Send the second last column to dR\n",
    "    cartcomm.Sendrecv(sendbuf, dR, recvbuf = recvbuf, source = sR)\n",
    "    c[:,0] = recvbuf # received into the 0th column from sR\n",
    "    # Send to left and receive from right\n",
    "    #print(rank,'Left, source',sL,'destination',dL)\n",
    "    sendbuf = c[:,1].copy()\n",
    "    cartcomm.Sendrecv(sendbuf, dL, recvbuf = recvbuf, source = sL)\n",
    "    c[:,-1] = recvbuf\n",
    "    # Send to up and receive from down\n",
    "    #print(rank,'Up, source',sU,'destination',dU)\n",
    "    sendbuf = c[1,:].copy()\n",
    "    cartcomm.Sendrecv(sendbuf, dU, recvbuf = recvbuf, source = sU)\n",
    "    c[-1,:] = recvbuf\n",
    "    # Send to down and receive from up\n",
    "    #print(rank,'Down, source',sD,'destination',dD)\n",
    "    sendbuf = c[-2,:].copy()\n",
    "    cartcomm.Sendrecv(sendbuf, dD, recvbuf = recvbuf, source = sD)\n",
    "    c[0,:]=recvbuf\n",
    "#\n",
    "    return c"
   ]
  },
  {
   "cell_type": "code",
   "execution_count": null,
   "id": "2654c89e",
   "metadata": {},
   "outputs": [],
   "source": [
    "%%px\n",
    "print(sd)"
   ]
  },
  {
   "cell_type": "code",
   "execution_count": null,
   "id": "feccdbaf",
   "metadata": {},
   "outputs": [],
   "source": [
    "%%px\n",
    "# Communication between subdomains\n",
    "def Communicate(c,cartcomm,sd):\n",
    "    recvbuf = np.zeros(c[:,1].shape[0])\n",
    "    sR,dR,sL,dL,sU,dU,sD,dD = sd\n",
    "    # Send to up and receive from down\n",
    "    #print(rank,'Up, source',sU,'destination',dU)\n",
    "    cartcomm.Sendrecv(c[1,:],dU,recvbuf=recvbuf,source=sU)\n",
    "    c[-1,:] = recvbuf\n",
    "    # Send to down and receive from up\n",
    "    #print(rank,'Down, source',sD,'destination',dD)\n",
    "    cartcomm.Sendrecv(c[-2,:],dD,recvbuf=recvbuf,source=sD)\n",
    "    c[0,:]=recvbuf\n",
    "    # Send to right and receive from left\n",
    "    #print(rank,'Right, source',sR,'destination',dR)\n",
    "    sendbuf = c[:,-2].copy()\n",
    "    cartcomm.Sendrecv(sendbuf,dR,recvbuf=recvbuf,source=sR)\n",
    "    c[:,0] = recvbuf\n",
    "    # Send to left and receive from right\n",
    "    #print(rank,'Left, source',sL,'destination',dL)\n",
    "    sendbuf = c[:,1].copy()\n",
    "    cartcomm.Sendrecv(sendbuf,dL,recvbuf=recvbuf,source=sL)\n",
    "    c[:,-1] = recvbuf\n",
    "#\n",
    "    return c"
   ]
  },
  {
   "cell_type": "markdown",
   "id": "42a26c46",
   "metadata": {},
   "source": [
    "## Integrate forward in time"
   ]
  },
  {
   "cell_type": "code",
   "execution_count": null,
   "id": "000ab3ca",
   "metadata": {},
   "outputs": [],
   "source": [
    "%%px\n",
    "# The time stepping loop\n",
    "for t in np.arange(100):\n",
    "    # First we need a communication step\n",
    "    c = Communicate(c,cartcomm,sd)\n",
    "    # Then we do a timestep forward\n",
    "    cup = np.roll(c,shift=(1,0),axis=(0,1)).copy()\n",
    "    cdown = np.roll(c,shift=(-1,0),axis=(0,1)).copy()\n",
    "    cleft = np.roll(c,shift=(0,1),axis=(0,1)).copy()\n",
    "    crght = np.roll(c,shift=(0,-1),axis=(0,1)).copy()\n",
    "    ccent = c.copy()\n",
    "    c = c + D*dt/dx**2*(cleft+cdown -4.*ccent+crght+cup)"
   ]
  },
  {
   "cell_type": "code",
   "execution_count": null,
   "id": "137e721e",
   "metadata": {},
   "outputs": [],
   "source": [
    "# Then let's plot\n",
    "#\n",
    "c_full_range = np.zeros((NX*NY))\n",
    "comm.Gather(c[1:-1,1:-1].reshape((nxsub-2)*(nysub-2)), c_full_range, root = 0)\n",
    "rcoords_x = comm.gather(rcoords[0], root=0)\n",
    "rcoords_y = comm.gather(rcoords[1], root=0)\n",
    "if rank == 0:\n",
    "    fig, ax = plt.subplots(subplot_kw={\"projection\": \"3d\"})\n",
    "#\n",
    "    X0, Y0 = np.meshgrid(np.arange(NX),np.arange(NY))\n",
    "    xy = np.array([rcoords_x,rcoords_y]).T\n",
    "    c_plot = np.zeros((NX,NY))\n",
    "    #\n",
    "    for i in np.arange(sectsX):\n",
    "        for j in np.arange(sectsY):\n",
    "            k = i*sectsX+j\n",
    "            xlo = NX//sectsX*xy[k,1]\n",
    "            xhi = NX//sectsX*(xy[k,1]+1)\n",
    "            ylo = NY//sectsY*xy[k,0]\n",
    "            yhi = NY//sectsY*(xy[k,0]+1)\n",
    "            clo = k*NX*NY//(sectsX*sectsY)\n",
    "            chi = (k+1)*NX*NY//(sectsX*sectsY)\n",
    "            #print('{} to {} into {} {} to {} {}'.format(clo,chi,xlo,ylo,xhi,yhi))\n",
    "            #print((xhi-xlo)*(yhi-ylo),chi-clo)\n",
    "            c_plot[xlo:xhi,ylo:yhi] = c_full_range[clo:chi].reshape(NX//sectsX,NY//sectsY)\n",
    "#            \n",
    "    ax.plot_surface(X0, Y0, c_plot, cmap=cm.coolwarm,linewidth=0, antialiased=False)"
   ]
  },
  {
   "cell_type": "code",
   "execution_count": null,
   "id": "22c8ac35",
   "metadata": {},
   "outputs": [],
   "source": [
    "%%px\n",
    "if rank==0:\n",
    "    for i in np.arange(sectsX):\n",
    "        for j in np.arange(sectsY):\n",
    "            k = i*sectsX+j\n",
    "            xlo = NX//sectsX*xy[k,1]\n",
    "            xhi = NX//sectsX*(xy[k,1]+1)\n",
    "            ylo = NY//sectsY*xy[k,0]\n",
    "            yhi = NY//sectsY*(xy[k,0]+1)\n",
    "            clo = k*NX*NY//(sectsX*sectsY)\n",
    "            chi = (k+1)*NX*NY//(sectsX*sectsY)\n",
    "            print(' ')\n",
    "            print('k = {}, xlo = {}, xhi = {}'.format(k,xlo,xhi))\n",
    "            print('k = {}, ylo = {}, yhi = {}'.format(k,ylo,yhi))\n",
    "            print('k = {}, clo = {}, chi = {}'.format(k,clo,chi))"
   ]
  },
  {
   "cell_type": "code",
   "execution_count": null,
   "id": "837e85d9",
   "metadata": {},
   "outputs": [],
   "source": []
  }
 ],
 "metadata": {
  "kernelspec": {
   "display_name": "Python (env311)",
   "language": "python",
   "name": "env311"
  },
  "language_info": {
   "codemirror_mode": {
    "name": "ipython",
    "version": 3
   },
   "file_extension": ".py",
   "mimetype": "text/x-python",
   "name": "python",
   "nbconvert_exporter": "python",
   "pygments_lexer": "ipython3",
   "version": "3.11.2"
  }
 },
 "nbformat": 4,
 "nbformat_minor": 5
}
