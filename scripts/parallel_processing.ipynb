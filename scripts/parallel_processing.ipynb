{
 "cells": [
  {
   "attachments": {},
   "cell_type": "markdown",
   "metadata": {},
   "source": [
    "MONTE CARLO METHOD USING PARALLEL PROCESSING"
   ]
  },
  {
   "cell_type": "code",
   "execution_count": 1,
   "metadata": {},
   "outputs": [
    {
     "data": {
      "text/plain": [
       "[0, 1, 2, 3]"
      ]
     },
     "execution_count": 1,
     "metadata": {},
     "output_type": "execute_result"
    }
   ],
   "source": [
    "import ipyparallel as ipp\n",
    "c = ipp.Client()\n",
    "c.ids"
   ]
  },
  {
   "cell_type": "code",
   "execution_count": 2,
   "metadata": {},
   "outputs": [
    {
     "data": {
      "text/plain": [
       "[stdout:0] Hello! I'm rank 0 from 4 running in total...\n"
      ]
     },
     "metadata": {},
     "output_type": "display_data"
    },
    {
     "data": {
      "text/plain": [
       "[stdout:2] Hello! I'm rank 2 from 4 running in total...\n"
      ]
     },
     "metadata": {},
     "output_type": "display_data"
    },
    {
     "data": {
      "text/plain": [
       "[stdout:1] Hello! I'm rank 1 from 4 running in total...\n"
      ]
     },
     "metadata": {},
     "output_type": "display_data"
    },
    {
     "data": {
      "text/plain": [
       "[stdout:3] Hello! I'm rank 3 from 4 running in total...\n"
      ]
     },
     "metadata": {},
     "output_type": "display_data"
    }
   ],
   "source": [
    "%%px\n",
    "from mpi4py import MPI\n",
    "comm = MPI.COMM_WORLD\n",
    "print(\"Hello! I'm rank %d from %d running in total...\" % (comm.rank, comm.size))"
   ]
  },
  {
   "cell_type": "code",
   "execution_count": 8,
   "metadata": {},
   "outputs": [
    {
     "data": {
      "text/plain": [
       "[stdout:2] Rank 2: n_success = 196390\n",
       "n_local = 250000\n",
       "Rank 2: pi_estimate = 0.000000\n"
      ]
     },
     "metadata": {},
     "output_type": "display_data"
    },
    {
     "data": {
      "text/plain": [
       "[stdout:3] Rank 3: n_success = 196282\n",
       "n_local = 250000\n",
       "Rank 3: pi_estimate = 0.000000\n"
      ]
     },
     "metadata": {},
     "output_type": "display_data"
    },
    {
     "data": {
      "text/plain": [
       "[stdout:0] Rank 0: n_success = 196696\n",
       "n_local = 250000\n",
       "Rank 0: pi_estimate = 3.142316\n"
      ]
     },
     "metadata": {},
     "output_type": "display_data"
    },
    {
     "data": {
      "text/plain": [
       "[stdout:1] Rank 1: n_success = 196211\n",
       "n_local = 250000\n",
       "Rank 1: pi_estimate = 0.000000\n"
      ]
     },
     "metadata": {},
     "output_type": "display_data"
    }
   ],
   "source": [
    "%%px\n",
    "import numpy as np\n",
    "from mpi4py import MPI\n",
    "\n",
    "# MPI initialization\n",
    "comm = MPI.COMM_WORLD\n",
    "size = comm.Get_size() # number of processes\n",
    "rank = comm.Get_rank() # rank of current process\n",
    "\n",
    "n = 1000000\n",
    "n_local = n // size\n",
    "\n",
    "# if n is not divisible by size, one of the processes needs to calculate more elements  \n",
    "if rank == 0:\n",
    "    n_local = n - n_local * (size - 1)\n",
    "\n",
    "# monte carlo integration\n",
    "x = np.random.rand(n_local)\n",
    "y = np.random.rand(n_local)\n",
    "z = np.sqrt(x**2 + y**2)\n",
    "\n",
    "n_success = np.sum(z < 1) \n",
    "\n",
    "print(\"Rank %d: n_success = %d\" % (rank, n_success))\n",
    "print(\"n_local = %d\" % n_local)\n",
    "\n",
    "# gather results\n",
    "reduced_n_success = np.array(0)\n",
    "comm.Reduce(n_success, reduced_n_success, op=MPI.SUM, root=0) # send n_success of every process to process 0 and sum it there\n",
    "\n",
    "\n",
    "print(\"Rank %d: pi_estimate = %f\" % (rank, reduced_n_success / n * 4)) # will only be != 0 for process 0\n"
   ]
  }
 ],
 "metadata": {
  "kernelspec": {
   "display_name": "automl_env",
   "language": "python",
   "name": "python3"
  },
  "language_info": {
   "codemirror_mode": {
    "name": "ipython",
    "version": 3
   },
   "file_extension": ".py",
   "mimetype": "text/x-python",
   "name": "python",
   "nbconvert_exporter": "python",
   "pygments_lexer": "ipython3",
   "version": "3.9.16"
  },
  "orig_nbformat": 4
 },
 "nbformat": 4,
 "nbformat_minor": 2
}
